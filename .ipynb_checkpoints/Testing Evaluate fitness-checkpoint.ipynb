{
 "cells": [
  {
   "cell_type": "code",
   "execution_count": 2,
   "metadata": {},
   "outputs": [
    {
     "ename": "ImportError",
     "evalue": "No module named data.price.price_data",
     "output_type": "error",
     "traceback": [
      "\u001b[1;31m---------------------------------------------------------------------------\u001b[0m",
      "\u001b[1;31mImportError\u001b[0m                               Traceback (most recent call last)",
      "\u001b[1;32m<ipython-input-2-4a97e1948fab>\u001b[0m in \u001b[0;36m<module>\u001b[1;34m()\u001b[0m\n\u001b[1;32m----> 1\u001b[1;33m \u001b[1;32mimport\u001b[0m \u001b[0mdata\u001b[0m\u001b[1;33m.\u001b[0m\u001b[0mprice\u001b[0m\u001b[1;33m.\u001b[0m\u001b[0mprice_data\u001b[0m \u001b[1;32mas\u001b[0m \u001b[0msd\u001b[0m\u001b[1;33m\u001b[0m\u001b[0m\n\u001b[0m\u001b[0;32m      2\u001b[0m \u001b[1;32mimport\u001b[0m \u001b[0mmatplotlib\u001b[0m\u001b[1;33m.\u001b[0m\u001b[0mpyplot\u001b[0m \u001b[1;32mas\u001b[0m \u001b[0mplt\u001b[0m\u001b[1;33m\u001b[0m\u001b[0m\n",
      "\u001b[1;31mImportError\u001b[0m: No module named data.price.price_data"
     ]
    }
   ],
   "source": [
    "import data.price.price_data as sd\n",
    "import matplotlib.pyplot as plt"
   ]
  },
  {
   "cell_type": "code",
   "execution_count": 3,
   "metadata": {},
   "outputs": [
    {
     "name": "stdout",
     "output_type": "stream",
     "text": [
      "                         Open      High       Low     Close    Volume\n",
      "Date                                                                 \n",
      "2018-04-13 08:30:00  303.4800  303.6000  303.4800  303.6000   84703.0\n",
      "2018-04-13 08:35:00  300.7400  303.9499  298.4500  303.4800  319655.0\n",
      "2018-04-13 08:40:00  300.6400  302.5000  300.2001  300.7000  192917.0\n",
      "2018-04-13 08:45:00  298.6981  301.5200  298.4500  300.8500  107372.0\n",
      "2018-04-13 08:50:00  299.8200  300.3300  298.5948  298.5948  130468.0\n",
      "2018-04-13 08:55:00  297.8499  300.2900  297.3500  299.7984  136163.0\n",
      "2018-04-13 09:00:00  299.6162  300.1900  297.7200  297.8499  100013.0\n",
      "2018-04-13 09:05:00  297.8600  299.7900  297.8500  299.7140   75532.0\n",
      "2018-04-13 09:10:00  297.7250  298.6900  297.6600  297.8000   75229.0\n",
      "2018-04-13 09:15:00  297.1800  298.0800  296.0000  297.6850  160892.0\n",
      "(3950, 5)\n"
     ]
    }
   ],
   "source": [
    "dfs = sd.get_google_finance_intraday('FB', period=300, days=70)\n",
    "print(dfs.head(10))\n",
    "print(dfs.shape)\n"
   ]
  },
  {
   "cell_type": "code",
   "execution_count": 4,
   "metadata": {
    "collapsed": true
   },
   "outputs": [],
   "source": [
    "dates = dfs.index.values"
   ]
  },
  {
   "cell_type": "code",
   "execution_count": 5,
   "metadata": {
    "collapsed": true
   },
   "outputs": [],
   "source": [
    "data_price = dfs.values"
   ]
  },
  {
   "cell_type": "code",
   "execution_count": 19,
   "metadata": {},
   "outputs": [
    {
     "data": {
      "text/plain": [
       "(20L,)"
      ]
     },
     "execution_count": 19,
     "metadata": {},
     "output_type": "execute_result"
    }
   ],
   "source": [
    "((data_price[:10,[0,4]] - data_price[0,[0,4]])/data_price[0,[0,4]]).flatten().shape"
   ]
  },
  {
   "cell_type": "code",
   "execution_count": 24,
   "metadata": {},
   "outputs": [
    {
     "data": {
      "text/plain": [
       "numpy.datetime64('2018-06-22T15:00:00.000000000')"
      ]
     },
     "execution_count": 24,
     "metadata": {},
     "output_type": "execute_result"
    }
   ],
   "source": [
    "dfs.index.values[-1]"
   ]
  }
 ],
 "metadata": {
  "kernelspec": {
   "display_name": "Python 2",
   "language": "python",
   "name": "python2"
  },
  "language_info": {
   "codemirror_mode": {
    "name": "ipython",
    "version": 2
   },
   "file_extension": ".py",
   "mimetype": "text/x-python",
   "name": "python",
   "nbconvert_exporter": "python",
   "pygments_lexer": "ipython2",
   "version": "2.7.14"
  }
 },
 "nbformat": 4,
 "nbformat_minor": 2
}
