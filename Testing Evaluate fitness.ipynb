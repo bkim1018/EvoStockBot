{
 "cells": [
  {
   "cell_type": "code",
   "execution_count": 1,
   "metadata": {
    "collapsed": true
   },
   "outputs": [],
   "source": [
    "import sys\n",
    "sys.path.insert(0, 'C:/Users/Diyahir/Documents/GitHub/StockBot/playground')\n",
    "sys.path.insert(0, 'C:/Users/Diyahir/Documents/GitHub/StockBot/data/price')\n",
    "    "
   ]
  },
  {
   "cell_type": "code",
   "execution_count": 2,
   "metadata": {
    "collapsed": true
   },
   "outputs": [],
   "source": [
    "%load_ext autoreload\n",
    "%autoreload 2"
   ]
  },
  {
   "cell_type": "code",
   "execution_count": 3,
   "metadata": {
    "collapsed": true
   },
   "outputs": [],
   "source": [
    "TWITTER_PATH = 'C:/Users/Diyahir/Documents/GitHub/StockBot/data/twitter/historical.csv'"
   ]
  },
  {
   "cell_type": "code",
   "execution_count": 20,
   "metadata": {},
   "outputs": [],
   "source": [
    "# import price_data as sd\n",
    "import playground \n",
    "import price_data as sd\n",
    "import requests\n",
    "import csv\n",
    "# import tensorflow as tf\n",
    "import matplotlib.pyplot as plt\n",
    "# import keras"
   ]
  },
  {
   "cell_type": "code",
   "execution_count": 6,
   "metadata": {},
   "outputs": [
    {
     "name": "stdout",
     "output_type": "stream",
     "text": [
      "                         Open    High       Low     Close    Volume\n",
      "Date                                                               \n",
      "2018-04-13 08:30:00  164.6000  164.65  164.5300  164.5800  265787.0\n",
      "2018-04-13 08:35:00  165.1500  165.45  164.6000  164.6500  760116.0\n",
      "2018-04-13 08:40:00  165.3100  165.42  164.9000  165.1500  540410.0\n",
      "2018-04-13 08:45:00  165.0650  165.57  164.8010  165.3300  758604.0\n",
      "2018-04-13 08:50:00  164.9201  165.60  164.7400  165.0400  597924.0\n",
      "2018-04-13 08:55:00  164.7500  165.06  164.7100  164.9201  333327.0\n",
      "2018-04-13 09:00:00  164.7450  164.84  164.5300  164.7600  325628.0\n",
      "2018-04-13 09:05:00  164.7525  165.17  164.6200  164.7400  356534.0\n",
      "2018-04-13 09:10:00  164.4541  165.05  164.3534  164.7502  327953.0\n",
      "2018-04-13 09:15:00  164.6100  164.66  164.1900  164.4550  302849.0\n"
     ]
    }
   ],
   "source": [
    "dfs = sd.get_google_finance_intraday('FB', period=300, days=70) \n",
    "print(dfs.head(10))"
   ]
  },
  {
   "cell_type": "code",
   "execution_count": 7,
   "metadata": {},
   "outputs": [
    {
     "name": "stderr",
     "output_type": "stream",
     "text": [
      "C:/Users/Diyahir/Documents/GitHub/StockBot/playground\\playground.py:73: UserWarning: This pattern has match groups. To actually get the groups, use str.extract.\n",
      "  company_tweets = data.loc[data['Texts'].str.contains(company_regex, na=False)]\n"
     ]
    }
   ],
   "source": [
    "fb_tweets = playground.get_company_tweets(TWITTER_PATH,'(F|f)acebook')"
   ]
  },
  {
   "cell_type": "code",
   "execution_count": 8,
   "metadata": {},
   "outputs": [
    {
     "name": "stdout",
     "output_type": "stream",
     "text": [
      "                               Dates  Sentiment                  Datetime\n",
      "8994  Tue Jun 27 13:02:00 +0000 2017     0.2023 2017-06-27 13:02:00+00:00\n",
      "8781  Wed Jul 26 18:38:35 +0000 2017     0.0000 2017-07-26 18:38:35+00:00\n",
      "8778  Wed Jul 26 21:06:09 +0000 2017     0.5106 2017-07-26 21:06:09+00:00\n",
      "8724  Wed Aug 02 16:56:36 +0000 2017     0.4404 2017-08-02 16:56:36+00:00\n",
      "8718  Wed Aug 02 19:00:15 +0000 2017     0.0000 2017-08-02 19:00:15+00:00\n"
     ]
    }
   ],
   "source": [
    "print(fb_tweets.head(5))"
   ]
  },
  {
   "cell_type": "code",
   "execution_count": 19,
   "metadata": {},
   "outputs": [],
   "source": [
    "sentiments = playground.evaluate_fitness(True, dfs,fb_tweets)"
   ]
  },
  {
   "cell_type": "code",
   "execution_count": 22,
   "metadata": {},
   "outputs": [
    {
     "data": {
      "image/png": "[encoded data removed]",
      "text/plain": [
       "<matplotlib.figure.Figure at 0x20bf51e7ba8>"
      ]
     },
     "metadata": {},
     "output_type": "display_data"
    }
   ],
   "source": [
    "plt.plot(sentiments)\n",
    "plt.show()"
   ]
  }
 ],
 "metadata": {
  "kernelspec": {
   "display_name": "Python 3",
   "language": "python",
   "name": "python3"
  },
  "language_info": {
   "codemirror_mode": {
    "name": "ipython",
    "version": 3
   },
   "file_extension": ".py",
   "mimetype": "text/x-python",
   "name": "python",
   "nbconvert_exporter": "python",
   "pygments_lexer": "ipython3",
   "version": "3.6.2"
  }
 },
 "nbformat": 4,
 "nbformat_minor": 2
}
