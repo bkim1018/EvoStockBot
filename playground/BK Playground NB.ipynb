{
 "cells": [
  {
   "cell_type": "code",
   "execution_count": 71,
   "metadata": {
    "collapsed": true
   },
   "outputs": [],
   "source": [
    "# Utility Functions\n",
    "import struct\n",
    "import numpy as np\n",
    "\n",
    "from keras.models import Sequential\n",
    "from keras.layers import Dense"
   ]
  },
  {
   "cell_type": "code",
   "execution_count": 271,
   "metadata": {},
   "outputs": [],
   "source": [
    "def floatToBinary(num):\n",
    "    return ''.join(bin(c).replace('0b', '').rjust(8, '0') for c in struct.pack('!f', num))\n",
    "\n",
    "def binaryToFloat(b):\n",
    "    \"\"\" Convert binary string to a float. \"\"\"\n",
    "#     b = b.replace(\" \", \"\")  # remove spaces\n",
    "    bf = int_to_bytes(int(b, 2), 4)  # 4 bytes needed for np.float32\n",
    "    return struct.unpack('>f', bf)[0]\n",
    "\n",
    "def int_to_bytes(n, minlen=0):  # Helper function\n",
    "    \"\"\" Int/long to byte string.\n",
    "        Python 3.2+ has a built-in int.to_bytes() method that could be\n",
    "        used instead, but the following is portable.\n",
    "    \"\"\"\n",
    "    nbits = n.bit_length() + (1 if n < 0 else 0)  # +1 for any sign bit.\n",
    "    nbytes = (nbits+7) // 8  # Number of whole bytes.\n",
    "    b = bytearray()\n",
    "    for _ in range(nbytes):\n",
    "        b.append(n & 0xff)\n",
    "        n >>= 8\n",
    "    if minlen and len(b) < minlen:  # Zero padding needed?\n",
    "        b.extend([0] * (minlen-len(b)))\n",
    "    return bytearray(reversed(b))  # High bytes first"
   ]
  },
  {
   "cell_type": "code",
   "execution_count": 219,
   "metadata": {},
   "outputs": [
    {
     "name": "stdout",
     "output_type": "stream",
     "text": [
      "32\n",
      "10111111100100111100000000011010\n",
      "-1.1542999744415283\n"
     ]
    }
   ],
   "source": [
    "r = floatToBinary(np.float32(-1.1543))\n",
    "print(len(r))\n",
    "print(r)\n",
    "print(binaryToFloat(r))"
   ]
  },
  {
   "cell_type": "code",
   "execution_count": 222,
   "metadata": {},
   "outputs": [
    {
     "data": {
      "text/plain": [
       "array([12])"
      ]
     },
     "execution_count": 222,
     "metadata": {},
     "output_type": "execute_result"
    }
   ],
   "source": [
    "np.fromstring('12', dtype=int, sep=' ')"
   ]
  },
  {
   "cell_type": "code",
   "execution_count": 130,
   "metadata": {},
   "outputs": [],
   "source": [
    "# create model\n",
    "model1 = Sequential()\n",
    "model1.add(Dense(12, input_dim=8, activation='relu'))\n",
    "model1.add(Dense(8, activation='relu'))\n",
    "model1.add(Dense(1, activation='sigmoid'))\n",
    "# Compile model\n",
    "model1.compile(loss='binary_crossentropy', optimizer='adam', metrics=['accuracy'])"
   ]
  },
  {
   "cell_type": "code",
   "execution_count": 131,
   "metadata": {},
   "outputs": [
    {
     "data": {
      "text/plain": [
       "[array([[-0.31270185,  0.00548464, -0.33849022, -0.32984221,  0.43539119,\n",
       "         -0.52313989, -0.11072099, -0.28182477, -0.26573354,  0.12202513,\n",
       "          0.2487393 , -0.27341142],\n",
       "        [-0.32785597, -0.22934267, -0.02194089,  0.07212871,  0.50829828,\n",
       "          0.23826087,  0.2833389 ,  0.07954842,  0.3521499 , -0.49776459,\n",
       "          0.37664235, -0.25353408],\n",
       "        [ 0.17222184, -0.02956414,  0.25850904,  0.51571834,  0.38042283,\n",
       "         -0.41903955,  0.44621581,  0.21543199,  0.46827829, -0.44092757,\n",
       "          0.02731675,  0.04917002],\n",
       "        [-0.48473147,  0.37811315, -0.45419678,  0.51197195, -0.25907686,\n",
       "          0.14081287,  0.12762785,  0.04247087, -0.19591716,  0.26458579,\n",
       "         -0.4774524 , -0.23884785],\n",
       "        [-0.51164657,  0.19375306, -0.26958144,  0.49262357, -0.16092971,\n",
       "          0.37686408, -0.05811733, -0.53755063,  0.45213169,  0.06769431,\n",
       "         -0.49481398, -0.25408739],\n",
       "        [-0.24899122, -0.45731378,  0.13067055,  0.42716575,  0.43080223,\n",
       "         -0.02069235, -0.45613182,  0.20495468,  0.24499744, -0.31506196,\n",
       "          0.21992326, -0.43200231],\n",
       "        [-0.4352226 , -0.53215462,  0.12112933, -0.20372379, -0.09030786,\n",
       "         -0.50887537, -0.03338683,  0.35765362,  0.43456769,  0.26777095,\n",
       "          0.35193211, -0.38838199],\n",
       "        [-0.28666878, -0.26300389, -0.18208602, -0.0586983 ,  0.07037896,\n",
       "          0.03467274,  0.267883  , -0.34880948,  0.39709467,  0.31201339,\n",
       "          0.21573353,  0.33161861]], dtype=float32),\n",
       " array([ 0.,  0.,  0.,  0.,  0.,  0.,  0.,  0.,  0.,  0.,  0.,  0.], dtype=float32),\n",
       " array([[-0.06850111,  0.44119149,  0.51442814, -0.35791624,  0.38469929,\n",
       "         -0.20861691,  0.14025408, -0.50122279],\n",
       "        [ 0.17724699, -0.07712391, -0.09584725,  0.23238611, -0.03075266,\n",
       "          0.18424857,  0.38349605, -0.53749329],\n",
       "        [-0.20447388,  0.21780461, -0.49412945,  0.15586281,  0.1144101 ,\n",
       "         -0.09941423,  0.0911144 ,  0.25024849],\n",
       "        [ 0.46488953,  0.20563102, -0.12356088, -0.49121812,  0.01411593,\n",
       "         -0.1173287 , -0.3592878 , -0.46447831],\n",
       "        [-0.39631975, -0.48891744,  0.0681898 ,  0.25765997,  0.37452656,\n",
       "         -0.19904095, -0.01832765, -0.26648167],\n",
       "        [-0.20741016,  0.23069239,  0.07233751,  0.18851078,  0.12393552,\n",
       "         -0.26094988, -0.04676867, -0.52669948],\n",
       "        [ 0.31234628, -0.39974505,  0.14852798,  0.50639629, -0.476125  ,\n",
       "         -0.42336816,  0.12941206, -0.34760624],\n",
       "        [ 0.12741017,  0.46886861, -0.50844949, -0.35173661,  0.11771929,\n",
       "         -0.32599184,  0.35947269, -0.07238045],\n",
       "        [-0.00659114, -0.11249751,  0.02799475,  0.07268262,  0.09315687,\n",
       "         -0.33396837,  0.19113165, -0.52643108],\n",
       "        [ 0.21271902, -0.25443617, -0.36622226,  0.41670555,  0.09943789,\n",
       "         -0.54042798, -0.22234422,  0.28878689],\n",
       "        [-0.29594502, -0.1681743 ,  0.32761008, -0.3497915 ,  0.01547408,\n",
       "          0.04287976,  0.44522685, -0.52190572],\n",
       "        [-0.52058434, -0.02278066, -0.27401069, -0.00397718,  0.15826142,\n",
       "         -0.53165919,  0.4328472 , -0.26986206]], dtype=float32),\n",
       " array([ 0.,  0.,  0.,  0.,  0.,  0.,  0.,  0.], dtype=float32),\n",
       " array([[ 0.230847  ],\n",
       "        [ 0.0369544 ],\n",
       "        [-0.04571038],\n",
       "        [ 0.21069074],\n",
       "        [-0.29073036],\n",
       "        [-0.46158829],\n",
       "        [-0.16235894],\n",
       "        [-0.50128651]], dtype=float32),\n",
       " array([ 0.], dtype=float32)]"
      ]
     },
     "execution_count": 131,
     "metadata": {},
     "output_type": "execute_result"
    }
   ],
   "source": [
    "model1.get_weights()"
   ]
  },
  {
   "cell_type": "code",
   "execution_count": 132,
   "metadata": {
    "collapsed": true
   },
   "outputs": [],
   "source": [
    "# create model\n",
    "model2 = Sequential()\n",
    "model2.add(Dense(12, input_dim=8, activation='relu'))\n",
    "model2.add(Dense(8, activation='relu'))\n",
    "model2.add(Dense(1, activation='sigmoid'))\n",
    "# Compile model\n",
    "model2.compile(loss='binary_crossentropy', optimizer='adam', metrics=['accuracy'])"
   ]
  },
  {
   "cell_type": "code",
   "execution_count": 133,
   "metadata": {
    "collapsed": true
   },
   "outputs": [
    {
     "data": {
      "text/plain": [
       "[array([[ 0.53906965, -0.36175224,  0.11764318, -0.27398887,  0.03498143,\n",
       "          0.02035451, -0.02354866, -0.27302501,  0.50533628,  0.21872503,\n",
       "          0.53110099,  0.47507024],\n",
       "        [ 0.24357456,  0.40378225,  0.28824824,  0.13178265,  0.18765646,\n",
       "          0.26476395,  0.51288557, -0.32712036,  0.00813705,  0.23025286,\n",
       "         -0.47684634, -0.4367699 ],\n",
       "        [ 0.14408672,  0.44193619,  0.12346071,  0.23810536,  0.23198342,\n",
       "          0.01208872,  0.00841242,  0.43259281,  0.30290431, -0.50991338,\n",
       "          0.07055587,  0.1316514 ],\n",
       "        [-0.15658402,  0.44978881, -0.08994615,  0.29364878,  0.4441337 ,\n",
       "          0.43539876, -0.54369462,  0.33911037,  0.03439587,  0.38053852,\n",
       "          0.02911168, -0.33176354],\n",
       "        [-0.46135166,  0.42973882,  0.16793102, -0.53014684, -0.07712001,\n",
       "         -0.15913478, -0.32593894, -0.45265064,  0.04797643,  0.24091232,\n",
       "         -0.02151662,  0.1674732 ],\n",
       "        [ 0.02607816, -0.24141794,  0.00191373,  0.18477792, -0.15746236,\n",
       "          0.03213227, -0.39004058, -0.43278623,  0.4932164 ,  0.32838851,\n",
       "         -0.32568392,  0.21553409],\n",
       "        [-0.51808226, -0.52552354, -0.15085909, -0.10484654, -0.44033784,\n",
       "         -0.33654121, -0.46681815, -0.53791338, -0.52000189,  0.28465617,\n",
       "         -0.51653391, -0.10595235],\n",
       "        [ 0.1348027 , -0.18757969, -0.43107802,  0.28070223,  0.16713572,\n",
       "         -0.38784435, -0.33985823, -0.30574375,  0.24103689, -0.34193394,\n",
       "         -0.00302726, -0.35708493]], dtype=float32),\n",
       " array([ 0.,  0.,  0.,  0.,  0.,  0.,  0.,  0.,  0.,  0.,  0.,  0.], dtype=float32),\n",
       " array([[-0.08260936,  0.09236437,  0.30261987, -0.03768158,  0.03592962,\n",
       "         -0.11491847, -0.33176288, -0.05140358],\n",
       "        [-0.37802941,  0.13066012, -0.2204912 ,  0.02961588, -0.42523712,\n",
       "          0.26373321, -0.29399979,  0.0564279 ],\n",
       "        [ 0.42819071,  0.01637906, -0.21373042,  0.04465628, -0.05082077,\n",
       "         -0.24431291,  0.2852878 , -0.43134049],\n",
       "        [-0.13407955,  0.18236679, -0.42392051, -0.22694051,  0.43035662,\n",
       "          0.05499381, -0.22696322, -0.47282022],\n",
       "        [ 0.18744624,  0.30726182, -0.11911163,  0.14255345, -0.04178363,\n",
       "          0.36075211, -0.50906795,  0.11167914],\n",
       "        [ 0.18388671, -0.49583608,  0.40641189, -0.46721306, -0.27794084,\n",
       "         -0.41842765, -0.528368  ,  0.0497309 ],\n",
       "        [-0.17998931,  0.48228312, -0.35780197, -0.45243621,  0.52941477,\n",
       "          0.1388756 ,  0.25237185, -0.19919425],\n",
       "        [ 0.26786315, -0.10034651,  0.08216172, -0.03127736,  0.25705421,\n",
       "         -0.4142952 , -0.33948594,  0.13369572],\n",
       "        [-0.15692943, -0.13448474, -0.09548944, -0.00841987, -0.27831483,\n",
       "          0.30475837, -0.46503279, -0.50655258],\n",
       "        [-0.48958749,  0.14839959, -0.54612941, -0.16170213, -0.05527353,\n",
       "         -0.25914058, -0.42082939, -0.26826799],\n",
       "        [ 0.4735707 , -0.24223346,  0.23663008, -0.06353655, -0.13711345,\n",
       "         -0.04129106, -0.12255168,  0.33314151],\n",
       "        [-0.47815955, -0.5442999 , -0.23759773,  0.34776664, -0.39263704,\n",
       "         -0.39330119,  0.12105554,  0.43257535]], dtype=float32),\n",
       " array([ 0.,  0.,  0.,  0.,  0.,  0.,  0.,  0.], dtype=float32),\n",
       " array([[ 0.54648948],\n",
       "        [ 0.38584316],\n",
       "        [-0.11518466],\n",
       "        [-0.47184223],\n",
       "        [ 0.52745795],\n",
       "        [-0.25955194],\n",
       "        [-0.16637921],\n",
       "        [-0.35541347]], dtype=float32),\n",
       " array([ 0.], dtype=float32)]"
      ]
     },
     "execution_count": 133,
     "metadata": {},
     "output_type": "execute_result"
    }
   ],
   "source": [
    "model2.get_weights()"
   ]
  },
  {
   "cell_type": "code",
   "execution_count": 297,
   "metadata": {},
   "outputs": [
    {
     "name": "stdout",
     "output_type": "stream",
     "text": [
      "[ 0  4  6  9 10 13 21 23 31 36]\n"
     ]
    }
   ],
   "source": [
    "print(splitInd[:10])"
   ]
  },
  {
   "cell_type": "code",
   "execution_count": 312,
   "metadata": {
    "scrolled": true
   },
   "outputs": [
    {
     "name": "stdout",
     "output_type": "stream",
     "text": [
      "1 [-0.31270185  0.00548464 -0.33849022] [-0.31270185  0.00548464 -0.33849022]\n",
      "2 ['10111110101000000001101001110101', '00111011101100111011100010000000', '10111110101011010100111010010111']\n",
      "3 101111101010000000011010011101010011101110110011101110001000000010111110101011010100111010010111\n",
      "4 [1 0 1 ..., 0 0 0]\n",
      "5 [1 0 1 ..., 0 0 0]\n",
      "5a True\n",
      "6 [array([1, 0, 1, 1, 1, 1, 1, 0, 1, 0, 1, 0, 0, 0, 0, 0, 0, 0, 0, 1, 1, 0, 1,\n",
      "       0, 0, 1, 1, 1, 0, 1, 0, 1]), array([0, 0, 1, 1, 1, 0, 1, 1, 1, 0, 1, 1, 0, 0, 1, 1, 1, 0, 1, 1, 1, 0, 0,\n",
      "       0, 1, 0, 0, 0, 0, 0, 0, 0]), array([1, 0, 1, 1, 1, 1, 1, 0, 1, 0, 1, 0, 1, 1, 0, 1, 0, 1, 0, 0, 1, 1, 1,\n",
      "       0, 1, 0, 0, 1, 0, 1, 1, 1])]\n",
      "7 ['10111110101000000001101001110101', '00111011101100111011100010000000', '10111110101011010100111010010111']\n",
      "8 [-0.31270185  0.00548464 -0.33849022]\n",
      "221 221\n"
     ]
    },
    {
     "data": {
      "text/plain": [
       "[array([[-0.31270185,  0.00548464, -0.33849022, -0.32984221,  0.43539119,\n",
       "         -0.52313989, -0.11072099, -0.28182477, -0.26573354,  0.12202513,\n",
       "          0.2487393 , -0.27341142],\n",
       "        [-0.32785597, -0.22934267, -0.02194089,  0.07212871,  0.50829828,\n",
       "          0.23826087,  0.2833389 ,  0.07954842,  0.3521499 , -0.49776459,\n",
       "          0.37664235, -0.25353408],\n",
       "        [ 0.17222184, -0.02956414,  0.25850904,  0.51571834,  0.38042283,\n",
       "         -0.41903955,  0.44621581,  0.21543199,  0.46827829, -0.44092757,\n",
       "          0.02731675,  0.04917002],\n",
       "        [-0.48473147,  0.37811315, -0.45419678,  0.51197195, -0.25907686,\n",
       "          0.14081287,  0.12762785,  0.04247087, -0.19591716,  0.26458579,\n",
       "         -0.4774524 , -0.23884785],\n",
       "        [-0.51164657,  0.19375306, -0.26958144,  0.49262357, -0.16092971,\n",
       "          0.37686408, -0.05811733, -0.53755063,  0.45213169,  0.06769431,\n",
       "         -0.49481398, -0.25408739],\n",
       "        [-0.24899122, -0.45731378,  0.13067055,  0.42716575,  0.43080223,\n",
       "         -0.02069235, -0.45613182,  0.20495468,  0.24499744, -0.31506196,\n",
       "          0.21992326, -0.43200231],\n",
       "        [-0.4352226 , -0.53215462,  0.12112933, -0.20372379, -0.09030786,\n",
       "         -0.50887537, -0.03338683,  0.35765362,  0.43456769,  0.26777095,\n",
       "          0.35193211, -0.38838199],\n",
       "        [-0.28666878, -0.26300389, -0.18208602, -0.0586983 ,  0.07037896,\n",
       "          0.03467274,  0.267883  , -0.34880948,  0.39709467,  0.31201339,\n",
       "          0.21573353,  0.33161861]]),\n",
       " array([ 0.,  0.,  0.,  0.,  0.,  0.,  0.,  0.,  0.,  0.,  0.,  0.]),\n",
       " array([[-0.06850111,  0.44119149,  0.51442814, -0.35791624,  0.38469929,\n",
       "         -0.20861691,  0.14025408, -0.50122279],\n",
       "        [ 0.17724699, -0.07712391, -0.09584725,  0.23238611, -0.03075266,\n",
       "          0.18424857,  0.38349605, -0.53749329],\n",
       "        [-0.20447388,  0.21780461, -0.49412945,  0.15586281,  0.1144101 ,\n",
       "         -0.09941423,  0.0911144 ,  0.25024849],\n",
       "        [ 0.46488953,  0.20563102, -0.12356088, -0.49121812,  0.01411593,\n",
       "         -0.1173287 , -0.3592878 , -0.46447831],\n",
       "        [-0.39631975, -0.48891744,  0.0681898 ,  0.25765997,  0.37452656,\n",
       "         -0.19904095, -0.01832765, -0.26648167],\n",
       "        [-0.20741016,  0.23069239,  0.07233751,  0.18851078,  0.12393552,\n",
       "         -0.26094988, -0.04676867, -0.52669948],\n",
       "        [ 0.31234628, -0.39974505,  0.14852798,  0.50639629, -0.476125  ,\n",
       "         -0.42336816,  0.12941206, -0.34760624],\n",
       "        [ 0.12741017,  0.46886861, -0.50844949, -0.35173661,  0.11771929,\n",
       "         -0.32599184,  0.35947269, -0.07238045],\n",
       "        [-0.00659114, -0.11249751,  0.02799475,  0.07268262,  0.09315687,\n",
       "         -0.33396837,  0.19113165, -0.52643108],\n",
       "        [ 0.21271902, -0.25443617, -0.36622226,  0.41670555,  0.09943789,\n",
       "         -0.54042798, -0.22234422,  0.28878689],\n",
       "        [-0.29594502, -0.1681743 ,  0.32761008, -0.3497915 ,  0.01547408,\n",
       "          0.04287976,  0.44522685, -0.52190572],\n",
       "        [-0.52058434, -0.02278066, -0.27401069, -0.00397718,  0.15826142,\n",
       "         -0.53165919,  0.4328472 , -0.26986206]]),\n",
       " array([ 0.,  0.,  0.,  0.,  0.,  0.,  0.,  0.]),\n",
       " array([[ 0.230847  ],\n",
       "        [ 0.0369544 ],\n",
       "        [-0.04571038],\n",
       "        [ 0.21069074],\n",
       "        [-0.29073036],\n",
       "        [-0.46158829],\n",
       "        [-0.16235894],\n",
       "        [-0.50128651]]),\n",
       " array([ 0.])]"
      ]
     },
     "execution_count": 312,
     "metadata": {},
     "output_type": "execute_result"
    }
   ],
   "source": [
    "p1, p2 = model1.get_weights(), model1.get_weights() \n",
    "p1Flat = np.concatenate([a.flatten() for a in p1])\n",
    "p2Flat = np.concatenate([a.flatten() for a in p2])\n",
    "p1BinStr = \"\".join(list(map(floatToBinary, p1Flat)))\n",
    "p2BinStr = \"\".join(list(map(floatToBinary, p2Flat)))\n",
    "p1Bin = np.fromstring(\" \".join(p1BinStr), dtype=int, sep=' ')\n",
    "p2Bin = np.fromstring(\" \".join(p2BinStr), dtype=int, sep=' ')\n",
    "splitInd = np.where(np.random.randint(8, size=p1Bin.size) == 1)[0]\n",
    "p1Split = np.split(p1Bin, splitInd)\n",
    "p2Split = np.split(p2Bin, splitInd)\n",
    "print(1, p1Flat[:3], p2Flat[:3])\n",
    "print(2, list(map(floatToBinary, p1Flat))[:3])\n",
    "print(3, \"\".join(list(map(floatToBinary, p1Flat))[:3]))\n",
    "print(4, p1Bin)\n",
    "\n",
    "# generate child's flat array\n",
    "cArrs = []\n",
    "for i in range(len(p1Split)):\n",
    "    curParent = np.random.randint(2)\n",
    "    if curParent == 0:\n",
    "        cArrs.append(p1Split[i])\n",
    "    else:\n",
    "        cArrs.append(p2Split[i])\n",
    "cBin = np.concatenate(cArrs)\n",
    "print(5, cBin)\n",
    "print(\"5a\",(cBin == p1Bin).all())\n",
    "cBinChunks = np.split(cBin, cBin.size / 32)\n",
    "print(6, cBinChunks[:3])\n",
    "cBinStrChunks = list(map(lambda x: np.array_str(x)[1:-1].replace(\" \", \"\") , cBinChunks))\n",
    "print(7, cBinStrChunks[:3])\n",
    "cFlat = np.array(list(map(binaryToFloat, cBinStrChunks)))\n",
    "print(8, cFlat[:3])\n",
    "print(cFlat.size, p1Flat.size)\n",
    "\n",
    "# reshape child's arrays\n",
    "cur = 0\n",
    "cArrs = []\n",
    "for s in structure:\n",
    "    if len(s) == 2:\n",
    "        count = s[0] * s[1]\n",
    "    else:\n",
    "        count = s[0]\n",
    "    cArrs.append(cFlat[cur:cur+count].reshape(s))\n",
    "    cur += count\n",
    "\n",
    "cArrs"
   ]
  },
  {
   "cell_type": "code",
   "execution_count": 165,
   "metadata": {
    "collapsed": true
   },
   "outputs": [],
   "source": [
    "def create_offspring(p1,p2):\n",
    "    \"\"\"\n",
    "    :param p1: weight matrix for parent1's neural net\n",
    "    :param p2: weight matrix for parent2's neural net\n",
    "    :return: weight matrix for child's neural net or -1 on error\n",
    "    \"\"\"\n",
    "    structure = [a.shape for a in p1]\n",
    "    if [a.shape for a in p1] != [a.shape for a in p2]:\n",
    "        print(\"Shapes of parent weight matrices must be the same.\")\n",
    "        return -1\n",
    "    p1Flat = np.concatenate([a.flatten() for a in p1])\n",
    "    p2Flat = np.concatenate([a.flatten() for a in p2])\n",
    "    p1BinStr = \"\".join(list(map(floatToBinary, p1Flat)))\n",
    "    p2BinStr = \"\".join(list(map(floatToBinary, p2Flat)))\n",
    "    p1Bin = np.fromstring(\" \".join(p1BinStr), dtype=int, sep=' ')\n",
    "    p2Bin = np.fromstring(\" \".join(p2BinStr), dtype=int, sep=' ')\n",
    "    splitInd = np.where(np.random.randint(8, size=p1Bin.size) == 1)[0]\n",
    "    p1Split = np.split(p1Bin, splitInd)\n",
    "    p2Split = np.split(p2Bin, splitInd)\n",
    "\n",
    "    # generate child's flat array\n",
    "    cArrs = []\n",
    "    for i in range(len(p1Split)):\n",
    "        curParent = np.random.randint(2)\n",
    "        if curParent == 0:\n",
    "            cArrs.append(p1Split[i])\n",
    "        else:\n",
    "            cArrs.append(p2Split[i])\n",
    "    cBin = np.concatenate(cArrs)\n",
    "    cBinChunks = np.split(cBin, cBin.size / 32)\n",
    "    cBinStrChunks = list(map(lambda x: np.array_str(x)[1:-1].replace(\" \", \"\") , cBinChunks))\n",
    "    cFlat = np.array(list(map(binaryToFloat, cBinStrChunks)))\n",
    "\n",
    "    # reshape child's arrays\n",
    "    cur = 0\n",
    "    cArrs = []\n",
    "    for s in structure:\n",
    "        if len(s) == 2:\n",
    "            count = s[0] * s[1]\n",
    "        else:\n",
    "            count = s[0]\n",
    "        cArrs.append(cFlat[cur:cur+count].reshape(s))\n",
    "        cur += count\n",
    "\n",
    "    return cArrs"
   ]
  },
  {
   "cell_type": "code",
   "execution_count": 213,
   "metadata": {
    "collapsed": true
   },
   "outputs": [],
   "source": [
    "import struct\n"
   ]
  },
  {
   "cell_type": "code",
   "execution_count": 214,
   "metadata": {},
   "outputs": [
    {
     "name": "stdout",
     "output_type": "stream",
     "text": [
      "01000001010000110110010110100010 32 <class 'str'>\n",
      "12.212312698364258\n"
     ]
    }
   ],
   "source": [
    "b = binary(12.2123123123321)\n",
    "print(b, len(b), type(b))\n",
    "\n",
    "print(floats(b))"
   ]
  },
  {
   "cell_type": "code",
   "execution_count": null,
   "metadata": {
    "collapsed": true
   },
   "outputs": [],
   "source": [
    "def mutate(neural_net):\n",
    "    \"\"\"\n",
    "    :param net: neural net to be mutated\n",
    "    :return: new net with random mutation\n",
    "    \"\"\"\n",
    "    pass"
   ]
  },
  {
   "cell_type": "code",
   "execution_count": null,
   "metadata": {
    "collapsed": true
   },
   "outputs": [],
   "source": [
    "def get_top_performers(current_generation):\n",
    "    \"\"\"\n",
    "    :param current_generation: current generation of neural nets\n",
    "    :return: top X performers of the playground\n",
    "    \"\"\"\n",
    "    pass"
   ]
  },
  {
   "cell_type": "code",
   "execution_count": null,
   "metadata": {
    "collapsed": true
   },
   "outputs": [],
   "source": [
    "def next_generation(current_generation):\n",
    "    \"\"\"\n",
    "    :param current_generation: List of current neural nets\n",
    "    :return: List of the next generation of neural nets\n",
    "    \"\"\"\n",
    "    pass"
   ]
  }
 ],
 "metadata": {
  "kernelspec": {
   "display_name": "Python 3",
   "language": "python",
   "name": "python3"
  },
  "language_info": {
   "codemirror_mode": {
    "name": "ipython",
    "version": 3
   },
   "file_extension": ".py",
   "mimetype": "text/x-python",
   "name": "python",
   "nbconvert_exporter": "python",
   "pygments_lexer": "ipython3",
   "version": "3.6.3"
  }
 },
 "nbformat": 4,
 "nbformat_minor": 2
}
