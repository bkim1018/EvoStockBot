{
 "cells": [
  {
   "cell_type": "markdown",
   "metadata": {},
   "source": [
    "# Imports "
   ]
  },
  {
   "cell_type": "code",
   "execution_count": 1,
   "metadata": {},
   "outputs": [],
   "source": [
    "%load_ext autoreload\n",
    "%autoreload 2"
   ]
  },
  {
   "cell_type": "code",
   "execution_count": 2,
   "metadata": {},
   "outputs": [],
   "source": [
    "import sys, os\n",
    "sys.path.insert(0, os.path.join(os.getcwd(), '..', 'playground'))\n",
    "sys.path.insert(0, os.path.join(os.getcwd(), '..', 'data', 'price'))\n",
    "from price_data import *"
   ]
  },
  {
   "cell_type": "code",
   "execution_count": 3,
   "metadata": {},
   "outputs": [],
   "source": [
    "from IPython.display import Javascript"
   ]
  },
  {
   "cell_type": "code",
   "execution_count": 4,
   "metadata": {},
   "outputs": [
    {
     "name": "stderr",
     "output_type": "stream",
     "text": [
      "/home/ubuntu/anaconda3/envs/tensorflow_p36/lib/python3.6/site-packages/h5py/__init__.py:36: FutureWarning: Conversion of the second argument of issubdtype from `float` to `np.floating` is deprecated. In future, it will be treated as `np.float64 == np.dtype(float).type`.\n",
      "  from ._conv import register_converters as _register_converters\n",
      "Using TensorFlow backend.\n"
     ]
    }
   ],
   "source": [
    "import playground\n",
    "import price_data\n",
    "from trading_bot_class import *\n",
    "import requests\n",
    "import csv\n",
    "import tensorflow as tf\n",
    "import matplotlib.pyplot as plt\n",
    "import keras\n",
    "import utils\n",
    "import time\n",
    "from matplotlib import pyplot as plt"
   ]
  },
  {
   "cell_type": "code",
   "execution_count": 5,
   "metadata": {},
   "outputs": [],
   "source": [
    "import keras\n",
    "from keras.models import Sequential\n",
    "from keras.layers import Dense, Dropout, Activation\n",
    "from keras.optimizers import SGD"
   ]
  },
  {
   "cell_type": "markdown",
   "metadata": {},
   "source": [
    "# Main Run"
   ]
  },
  {
   "cell_type": "code",
   "execution_count": 6,
   "metadata": {},
   "outputs": [],
   "source": [
    "def total_fitness(bot,data):\n",
    "    \"\"\"\n",
    "    :param bot:\n",
    "    :param data:\n",
    "    :return:\n",
    "    \"\"\"\n",
    "    for company_name,company_price,company_senti in data:\n",
    "        company_fit = playground.evaluate_fitness(bot, company_price, company_senti)\n",
    "        bot.add_fitness(company_fit)\n",
    "        bot.reset_attributes(1000,company_name)\n",
    "    print(bot.get_fitness())\n",
    "    return bot.get_fitness()"
   ]
  },
  {
   "cell_type": "markdown",
   "metadata": {},
   "source": [
    "## Settings/Data "
   ]
  },
  {
   "cell_type": "code",
   "execution_count": 7,
   "metadata": {},
   "outputs": [
    {
     "name": "stderr",
     "output_type": "stream",
     "text": [
      "/home/ubuntu/StockBot/playground/../playground/playground.py:158: UserWarning: This pattern has match groups. To actually get the groups, use str.extract.\n",
      "  company_tweets = data.loc[data['Texts'].str.contains(company_regex, na=False)]\n"
     ]
    }
   ],
   "source": [
    "NUM_GENERATIONS = 250\n",
    "NUM_BOTS = 40\n",
    "START_AMT = 1000.0\n",
    "histPathStr = os.path.join(os.getcwd(), '..', 'data', 'twitter', 'historical.csv')\n",
    "## generate 100 random bots\n",
    "bots = []\n",
    "data = []\n",
    "\n",
    "# FB_price_data = price_data.get_google_finance_intraday('FB', period=600, days=70)\n",
    "# fb_tweets = playground.get_company_tweets(histPathStr, '(F|f)acebook')\n",
    "# data.append(('FB',FB_price_data,fb_tweets))\n",
    "\n",
    "MSFT_price_data = price_data.get_google_finance_intraday('MSFT', period=600, days=70)\n",
    "msft_tweets = playground.get_company_tweets(histPathStr, '(M|m)icrosoft')\n",
    "data.append(('MSFT',MSFT_price_data,msft_tweets))\n",
    "\n",
    "# apple_price = price_data.get_google_finance_intraday('AAPL', period=600, days=70)\n",
    "# apple_tweets = playground.get_company_tweets(histPathStr, '(A|a)pple')\n",
    "# data.append(('AAPL',apple_price,apple_tweets))"
   ]
  },
  {
   "cell_type": "code",
   "execution_count": 8,
   "metadata": {},
   "outputs": [
    {
     "data": {
      "image/png": "[encoded data removed]",
      "text/plain": [
       "<Figure size 432x288 with 1 Axes>"
      ]
     },
     "metadata": {},
     "output_type": "display_data"
    }
   ],
   "source": [
    "# plt.plot(FB_price_data['Open'])\n",
    "# plt.show()\n",
    "plt.plot(MSFT_price_data['Open'])\n",
    "plt.show()\n",
    "# plt.plot(apple_price['Open'])\n",
    "# plt.show()"
   ]
  },
  {
   "cell_type": "markdown",
   "metadata": {},
   "source": [
    "## Generate/Reset Bots "
   ]
  },
  {
   "cell_type": "code",
   "execution_count": 9,
   "metadata": {},
   "outputs": [],
   "source": [
    "bots = []\n",
    "for i in range(NUM_BOTS):\n",
    "    bots.append(TradingBot(1000.0,'MSFT', utils.createDummy()))"
   ]
  },
  {
   "cell_type": "code",
   "execution_count": 15,
   "metadata": {},
   "outputs": [],
   "source": [
    "for i, bot in enumerate(bots):\n",
    "#     if i >= 7*len(bots)/20:\n",
    "#         bot.reset_attributes(1000, '', resetFitness=True)\n",
    "\n",
    "    bot.reset_attributes(1000, '', resetFitness=True)"
   ]
  },
  {
   "cell_type": "code",
   "execution_count": 10,
   "metadata": {},
   "outputs": [],
   "source": [
    "botWeights = utils.loadGeneration()\n",
    "for i, b in enumerate(bots):\n",
    "    b.neural_net = botWeights[i]"
   ]
  },
  {
   "cell_type": "markdown",
   "metadata": {},
   "source": [
    "##  Main"
   ]
  },
  {
   "cell_type": "code",
   "execution_count": null,
   "metadata": {
    "scrolled": true
   },
   "outputs": [
    {
     "name": "stdout",
     "output_type": "stream",
     "text": [
      "1074.923\n"
     ]
    },
    {
     "name": "stderr",
     "output_type": "stream",
     "text": [
      "/home/ubuntu/anaconda3/envs/tensorflow_p36/lib/python3.6/site-packages/numpy/core/_methods.py:26: RuntimeWarning: invalid value encountered in reduce\n",
      "  return umr_maximum(a, axis, None, out, keepdims)\n"
     ]
    },
    {
     "name": "stdout",
     "output_type": "stream",
     "text": [
      "1000.0\n",
      "1074.923\n",
      "1074.923\n",
      "1000.0\n",
      "1079.3000000000002\n",
      "1000.0\n",
      "1074.923\n",
      "1074.923\n",
      "1074.923\n",
      "1074.923\n",
      "1000.0\n",
      "1000.0\n",
      "1079.3000000000002\n",
      "1074.923\n",
      "1086.7\n",
      "1079.3000000000002\n",
      "1000.0\n",
      "1079.0500000000002\n",
      "1079.0500000000002\n",
      "1079.3000000000002\n",
      "1074.923\n",
      "1000.0\n",
      "1074.923\n",
      "1079.3000000000002\n",
      "1091.6090000000017\n",
      "1074.923\n",
      "1082.415\n",
      "1024.422399999999\n",
      "1081.799000000001\n",
      "1079.3000000000002\n",
      "1000.0\n",
      "1000.0\n",
      "1074.923\n",
      "1000.0\n",
      "1091.8268000000014\n",
      "1074.923\n",
      "1000.0\n",
      "1083.63\n",
      "1074.923\n",
      "0 a 1055.630605     g 0.05563060500000006 Time: 264.62933897972107\n",
      "1091.8268000000014\n",
      "1091.6090000000017\n",
      "1086.7\n",
      "1083.63\n",
      "1082.415\n",
      "1081.799000000001\n",
      "1079.3000000000002\n",
      "1079.3000000000002\n",
      "1079.3000000000002\n",
      "1079.3000000000002\n",
      "1079.3000000000002\n",
      "1079.3000000000002\n",
      "1079.0500000000002\n",
      "1079.0500000000002\n",
      "1000.0\n",
      "1000.0\n",
      "1010.6200000000001\n",
      "1012.5550000000001\n",
      "1074.923\n",
      "1076.1219999999998\n",
      "1000.0\n",
      "1074.923\n",
      "1074.923\n",
      "1074.923\n",
      "1074.923\n",
      "1074.923\n",
      "1074.923\n",
      "1066.7379999999985\n",
      "1000.0\n",
      "1074.923\n",
      "1000.0\n",
      "1000.0\n",
      "1000.0\n",
      "1074.923\n",
      "1074.923\n",
      "1074.923\n",
      "1074.923\n",
      "1000.0\n",
      "1000.0\n"
     ]
    }
   ],
   "source": [
    "for generation_index in range(NUM_GENERATIONS):\n",
    "        \n",
    "#     utils.saveGeneration(bots, generation_index)\n",
    "    startTime = time.time()\n",
    "    average_fitness = []\n",
    "    current_average = 0\n",
    "    \n",
    "    if generation_index == 0:\n",
    "        for i, bot in enumerate(bots):\n",
    "            current_average += total_fitness(bot,data)\n",
    "            \n",
    "    else:\n",
    "        for i, bot in enumerate(bots):\n",
    "            if i >= 7*len(bots)/20:\n",
    "                current_average += total_fitness(bot,data)\n",
    "            else :\n",
    "                print(bot.fitness)\n",
    "                current_average += bot.fitness\n",
    "            \n",
    "    current_average = current_average / float(NUM_BOTS)\n",
    "#     utils.saveGeneration()\n",
    "\n",
    "    average_fitness.append(current_average)\n",
    "    growth = (current_average - START_AMT) / START_AMT\n",
    "\n",
    "    bitErrRate = 1.0 / (current_average)\n",
    "    bots = utils.getNextGen(bots, bitErrRate)\n",
    "    \n",
    "    print(generation_index, 'a',current_average, '    g', growth, 'Time:', time.time() - startTime)\n",
    "    \n",
    "    if generation_index % 5 == 0 and generation_index:\n",
    "        utils.saveGeneration(bots, NUM_BOTS)\n",
    "    \n",
    "    for i, bot in enumerate(bots):\n",
    "        if i >= 7*len(bots)/20:\n",
    "            bot.reset_attributes(1000, '', resetFitness=True)\n",
    "    \n"
   ]
  },
  {
   "cell_type": "code",
   "execution_count": null,
   "metadata": {},
   "outputs": [],
   "source": [
    "utils.saveGeneration(bots, generation_index)\n"
   ]
  },
  {
   "cell_type": "code",
   "execution_count": null,
   "metadata": {},
   "outputs": [],
   "source": [
    "len(bots)"
   ]
  },
  {
   "cell_type": "code",
   "execution_count": null,
   "metadata": {},
   "outputs": [],
   "source": [
    "# save\n",
    "i = 1\n",
    "for bot in bots:\n",
    "    filepath = 'botSaves/bot%d.h5' % i\n",
    "    bot.neural_net.save(filepath)\n",
    "    i += 1"
   ]
  },
  {
   "cell_type": "markdown",
   "metadata": {},
   "source": [
    "# Testing Testing 123 "
   ]
  },
  {
   "cell_type": "code",
   "execution_count": null,
   "metadata": {},
   "outputs": [],
   "source": [
    "data_test = []\n",
    "ibm_price = price_data.get_google_finance_intraday('IBM', period=600, days=70)\n",
    "ibm_tweets = playground.get_company_tweets(histPathStr, '(IBM|Ibm)')\n",
    "data_test.append(('IBM',ibm_price,ibm_tweets))\n",
    "\n",
    "TWTR_price_data = price_data.get_google_finance_intraday('TWTR', period=600, days=70)\n",
    "TWTR_tweets = playground.get_company_tweets(histPathStr, '(T|t)witter')\n",
    "data_test.append(('TWTR',TWTR_price_data,TWTR_tweets))\n",
    "\n",
    "dell_price = price_data.get_google_finance_intraday('DVMT', period=600, days=70)\n",
    "dell_tweets = playground.get_company_tweets(histPathStr, '(D|d)ell')\n",
    "data_test.append(('DELL',dell_price,dell_tweets))"
   ]
  },
  {
   "cell_type": "code",
   "execution_count": null,
   "metadata": {},
   "outputs": [],
   "source": [
    "plt.plot(ibm_price['Open'])\n",
    "plt.show()\n",
    "plt.plot(TWTR_price_data['Open'])\n",
    "plt.show()\n",
    "plt.plot(dell_price['Open'])\n",
    "plt.show()\n"
   ]
  },
  {
   "cell_type": "code",
   "execution_count": null,
   "metadata": {},
   "outputs": [],
   "source": [
    "for i, bot in enumerate(bots):\n",
    "    total_fitness(bot,data_test)\n",
    "    "
   ]
  },
  {
   "cell_type": "code",
   "execution_count": null,
   "metadata": {},
   "outputs": [],
   "source": []
  },
  {
   "cell_type": "code",
   "execution_count": null,
   "metadata": {},
   "outputs": [],
   "source": []
  },
  {
   "cell_type": "code",
   "execution_count": null,
   "metadata": {},
   "outputs": [],
   "source": []
  },
  {
   "cell_type": "code",
   "execution_count": null,
   "metadata": {},
   "outputs": [],
   "source": []
  },
  {
   "cell_type": "code",
   "execution_count": null,
   "metadata": {},
   "outputs": [],
   "source": []
  }
 ],
 "metadata": {
  "kernelspec": {
   "display_name": "Python 3",
   "language": "python",
   "name": "python3"
  },
  "language_info": {
   "codemirror_mode": {
    "name": "ipython",
    "version": 3
   },
   "file_extension": ".py",
   "mimetype": "text/x-python",
   "name": "python",
   "nbconvert_exporter": "python",
   "pygments_lexer": "ipython3",
   "version": "3.6.6"
  }
 },
 "nbformat": 4,
 "nbformat_minor": 2
}
