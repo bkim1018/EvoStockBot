{
 "cells": [
  {
   "cell_type": "code",
   "execution_count": 1,
   "metadata": {},
   "outputs": [],
   "source": [
    "import sys\n",
    "sys.path.insert(0, 'C:/Users/Diyahir/Documents/GitHub/StockBot/playground')\n",
    "sys.path.insert(0, 'C:/Users/Diyahir/Documents/GitHub/StockBot/data/price')\n",
    "%load_ext autoreload\n",
    "%autoreload 2"
   ]
  },
  {
   "cell_type": "code",
   "execution_count": 2,
   "metadata": {},
   "outputs": [
    {
     "name": "stderr",
     "output_type": "stream",
     "text": [
      "Using TensorFlow backend.\n"
     ]
    }
   ],
   "source": [
    "import keras"
   ]
  },
  {
   "cell_type": "code",
   "execution_count": 3,
   "metadata": {
    "collapsed": true
   },
   "outputs": [],
   "source": [
    "from keras.models import Sequential\n",
    "from keras.layers import Dense, Dropout, Activation\n",
    "from keras.optimizers import SGD"
   ]
  },
  {
   "cell_type": "code",
   "execution_count": 4,
   "metadata": {},
   "outputs": [],
   "source": [
    "import utils"
   ]
  },
  {
   "cell_type": "code",
   "execution_count": 22,
   "metadata": {},
   "outputs": [],
   "source": [
    "model = Sequential()\n",
    "# Dense(64) is a fully-connected layer with 64 hidden units.\n",
    "# in the first layer, you must specify the expected input data shape:\n",
    "# here, 20-dimensional vectors.\n",
    "model.add(Dense(5, input_dim=5))\n",
    "model.add(Activation('tanh'))\n",
    "model.add(Dense(5))\n",
    "model.add(Activation('tanh'))\n",
    "model.add(Dense(5))\n",
    "model.add(Activation('softmax'))"
   ]
  },
  {
   "cell_type": "code",
   "execution_count": 23,
   "metadata": {},
   "outputs": [
    {
     "name": "stdout",
     "output_type": "stream",
     "text": [
      "[array([[  5.43306828e-01,  -7.65770376e-01,  -4.65455651e-02,\n",
      "          5.47587872e-04,   4.89059091e-02],\n",
      "       [  3.07758927e-01,   6.81417823e-01,  -4.56703752e-01,\n",
      "         -3.78408134e-01,  -1.17359340e-01],\n",
      "       [ -7.11190164e-01,  -7.69691288e-01,  -1.08733773e-01,\n",
      "         -3.11601490e-01,  -1.24999821e-01],\n",
      "       [ -7.37489104e-01,  -3.54469568e-01,  -5.89602113e-01,\n",
      "          2.40068197e-01,   7.11310387e-01],\n",
      "       [ -5.20768642e-01,   2.24769294e-01,   7.50451088e-01,\n",
      "         -4.38928485e-01,  -4.79865164e-01]], dtype=float32), array([ 0.,  0.,  0.,  0.,  0.], dtype=float32), array([[ 0.15728474, -0.54591298,  0.37104094, -0.70028752,  0.39490151],\n",
      "       [-0.26639616,  0.5373323 , -0.61829406,  0.03135723,  0.04637587],\n",
      "       [-0.26225621,  0.2570374 , -0.45027548,  0.12378633,  0.48883426],\n",
      "       [ 0.26370835, -0.20903325, -0.11566401, -0.27264863, -0.23324347],\n",
      "       [ 0.28913116,  0.01042563, -0.69115555,  0.47816443,  0.00574368]], dtype=float32), array([ 0.,  0.,  0.,  0.,  0.], dtype=float32), array([[ 0.09059632, -0.63608801,  0.36750364,  0.3420099 ,  0.36292338],\n",
      "       [ 0.76532328,  0.41162264,  0.08608371,  0.68659067,  0.5458858 ],\n",
      "       [-0.69468272, -0.66187739, -0.61919069, -0.62013972,  0.52544427],\n",
      "       [-0.75484389, -0.7339682 ,  0.38551474,  0.06790382, -0.479754  ],\n",
      "       [-0.38242248,  0.15753406, -0.61505777, -0.38477713,  0.56631196]], dtype=float32), array([ 0.,  0.,  0.,  0.,  0.], dtype=float32)]\n"
     ]
    }
   ],
   "source": [
    "weights = model.get_weights()\n",
    "print(weights)"
   ]
  },
  {
   "cell_type": "code",
   "execution_count": 28,
   "metadata": {},
   "outputs": [
    {
     "name": "stdout",
     "output_type": "stream",
     "text": [
      "[array([ 0.,  0.,  0.,  0.,  0.]), array([ 0.,  0.,  0.,  0.,  0.]), array([ 0.,  0.,  0.,  0.,  0.])]\n"
     ]
    }
   ],
   "source": [
    "mutated_weights = utils.create_offspring(weights,weights)\n",
    "print(mutated_weights.neural_net)"
   ]
  },
  {
   "cell_type": "code",
   "execution_count": null,
   "metadata": {
    "collapsed": true
   },
   "outputs": [],
   "source": [
    "print"
   ]
  }
 ],
 "metadata": {
  "kernelspec": {
   "display_name": "Python 3",
   "language": "python",
   "name": "python3"
  },
  "language_info": {
   "codemirror_mode": {
    "name": "ipython",
    "version": 3
   },
   "file_extension": ".py",
   "mimetype": "text/x-python",
   "name": "python",
   "nbconvert_exporter": "python",
   "pygments_lexer": "ipython3",
   "version": "3.6.2"
  }
 },
 "nbformat": 4,
 "nbformat_minor": 2
}
