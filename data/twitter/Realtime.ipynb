{
 "cells": [
  {
   "cell_type": "markdown",
   "metadata": {},
   "source": [
    "# Imports "
   ]
  },
  {
   "cell_type": "code",
   "execution_count": 1,
   "metadata": {
    "collapsed": true
   },
   "outputs": [],
   "source": [
    "%load_ext autoreload\n",
    "%autoreload 2"
   ]
  },
  {
   "cell_type": "code",
   "execution_count": 59,
   "metadata": {
    "collapsed": true
   },
   "outputs": [],
   "source": [
    "import sys, os\n",
    "insertIntoPath(os.path.join(os.getcwd(), '..', '..', 'playground'))\n",
    "insertIntoPath(os.path.join(os.getcwd(), '..', 'price'))"
   ]
  },
  {
   "cell_type": "code",
   "execution_count": 60,
   "metadata": {
    "collapsed": true
   },
   "outputs": [],
   "source": [
    "def insertIntoPath(newPath):\n",
    "    if newPath not in sys.path:\n",
    "        sys.path.insert(0, newPath)"
   ]
  },
  {
   "cell_type": "code",
   "execution_count": 61,
   "metadata": {
    "collapsed": true
   },
   "outputs": [],
   "source": [
    "import tweepy\n",
    "import numpy as np\n",
    "import pandas as pd\n",
    "import time\n",
    "from datetime import datetime\n",
    "from nltk.sentiment.vader import SentimentIntensityAnalyzer as SIA\n",
    "from datetime import datetime\n",
    "import re\n",
    "from dateutil import parser"
   ]
  },
  {
   "cell_type": "code",
   "execution_count": 63,
   "metadata": {},
   "outputs": [],
   "source": [
    "import twitterUtils"
   ]
  },
  {
   "cell_type": "code",
   "execution_count": 65,
   "metadata": {},
   "outputs": [
    {
     "name": "stderr",
     "output_type": "stream",
     "text": [
      "/home/brandon/Desktop/StockBot/data/twitter/twitterUtils.py:94: UserWarning: This pattern has match groups. To actually get the groups, use str.extract.\n",
      "  company_tweets = data.loc[data['Texts'].str.contains(company_regex, na=False)]\n"
     ]
    },
    {
     "data": {
      "text/html": [
       "<div>\n",
       "<style>\n",
       "    .dataframe thead tr:only-child th {\n",
       "        text-align: right;\n",
       "    }\n",
       "\n",
       "    .dataframe thead th {\n",
       "        text-align: left;\n",
       "    }\n",
       "\n",
       "    .dataframe tbody tr th {\n",
       "        vertical-align: top;\n",
       "    }\n",
       "</style>\n",
       "<table border=\"1\" class=\"dataframe\">\n",
       "  <thead>\n",
       "    <tr style=\"text-align: right;\">\n",
       "      <th></th>\n",
       "      <th>Datetime</th>\n",
       "      <th>IDs</th>\n",
       "      <th>Sentiment</th>\n",
       "      <th>Sources</th>\n",
       "    </tr>\n",
       "  </thead>\n",
       "  <tbody>\n",
       "    <tr>\n",
       "      <th>448</th>\n",
       "      <td>2018-07-06 21:59:20+00:00</td>\n",
       "      <td>1015354537723428870</td>\n",
       "      <td>-0.4404</td>\n",
       "      <td>CNBCtech</td>\n",
       "    </tr>\n",
       "    <tr>\n",
       "      <th>400</th>\n",
       "      <td>2018-07-06 12:04:00+00:00</td>\n",
       "      <td>1015204716832350209</td>\n",
       "      <td>-0.4019</td>\n",
       "      <td>ForbesTech</td>\n",
       "    </tr>\n",
       "    <tr>\n",
       "      <th>251</th>\n",
       "      <td>2018-07-06 08:35:58+00:00</td>\n",
       "      <td>1015152361176694784</td>\n",
       "      <td>0.0000</td>\n",
       "      <td>BBCWorldBiz</td>\n",
       "    </tr>\n",
       "    <tr>\n",
       "      <th>488</th>\n",
       "      <td>2018-07-04 18:50:03+00:00</td>\n",
       "      <td>1014582127982272512</td>\n",
       "      <td>-0.2732</td>\n",
       "      <td>CNBCtech</td>\n",
       "    </tr>\n",
       "    <tr>\n",
       "      <th>512</th>\n",
       "      <td>2018-07-03 09:48:23+00:00</td>\n",
       "      <td>1014083422577360896</td>\n",
       "      <td>0.4215</td>\n",
       "      <td>CNBCtech</td>\n",
       "    </tr>\n",
       "    <tr>\n",
       "      <th>62</th>\n",
       "      <td>2018-07-03 07:00:37+00:00</td>\n",
       "      <td>1014041201622814720</td>\n",
       "      <td>-0.3400</td>\n",
       "      <td>technology</td>\n",
       "    </tr>\n",
       "    <tr>\n",
       "      <th>515</th>\n",
       "      <td>2018-07-02 22:08:53+00:00</td>\n",
       "      <td>1013907386166382592</td>\n",
       "      <td>0.0000</td>\n",
       "      <td>CNBCtech</td>\n",
       "    </tr>\n",
       "    <tr>\n",
       "      <th>287</th>\n",
       "      <td>2018-07-02 19:24:19+00:00</td>\n",
       "      <td>1013865975652012034</td>\n",
       "      <td>-0.2263</td>\n",
       "      <td>BBCWorldBiz</td>\n",
       "    </tr>\n",
       "    <tr>\n",
       "      <th>524</th>\n",
       "      <td>2018-07-02 18:29:04+00:00</td>\n",
       "      <td>1013852069776777216</td>\n",
       "      <td>-0.3612</td>\n",
       "      <td>CNBCtech</td>\n",
       "    </tr>\n",
       "    <tr>\n",
       "      <th>532</th>\n",
       "      <td>2018-07-02 13:41:26+00:00</td>\n",
       "      <td>1013779684147056643</td>\n",
       "      <td>-0.1027</td>\n",
       "      <td>CNBCtech</td>\n",
       "    </tr>\n",
       "    <tr>\n",
       "      <th>289</th>\n",
       "      <td>2018-07-02 12:45:09+00:00</td>\n",
       "      <td>1013765518958977024</td>\n",
       "      <td>0.0000</td>\n",
       "      <td>BBCWorldBiz</td>\n",
       "    </tr>\n",
       "    <tr>\n",
       "      <th>178</th>\n",
       "      <td>2018-07-01 23:40:03+00:00</td>\n",
       "      <td>1013567944591364096</td>\n",
       "      <td>0.2263</td>\n",
       "      <td>WSJbusiness</td>\n",
       "    </tr>\n",
       "    <tr>\n",
       "      <th>220</th>\n",
       "      <td>2018-06-27 15:25:04+00:00</td>\n",
       "      <td>1011993825915613184</td>\n",
       "      <td>0.0000</td>\n",
       "      <td>WSJbusiness</td>\n",
       "    </tr>\n",
       "    <tr>\n",
       "      <th>228</th>\n",
       "      <td>2018-06-25 16:40:08+00:00</td>\n",
       "      <td>1011287939958099970</td>\n",
       "      <td>0.5423</td>\n",
       "      <td>WSJbusiness</td>\n",
       "    </tr>\n",
       "  </tbody>\n",
       "</table>\n",
       "</div>"
      ],
      "text/plain": [
       "                     Datetime                  IDs  Sentiment      Sources\n",
       "448 2018-07-06 21:59:20+00:00  1015354537723428870    -0.4404     CNBCtech\n",
       "400 2018-07-06 12:04:00+00:00  1015204716832350209    -0.4019   ForbesTech\n",
       "251 2018-07-06 08:35:58+00:00  1015152361176694784     0.0000  BBCWorldBiz\n",
       "488 2018-07-04 18:50:03+00:00  1014582127982272512    -0.2732     CNBCtech\n",
       "512 2018-07-03 09:48:23+00:00  1014083422577360896     0.4215     CNBCtech\n",
       "62  2018-07-03 07:00:37+00:00  1014041201622814720    -0.3400   technology\n",
       "515 2018-07-02 22:08:53+00:00  1013907386166382592     0.0000     CNBCtech\n",
       "287 2018-07-02 19:24:19+00:00  1013865975652012034    -0.2263  BBCWorldBiz\n",
       "524 2018-07-02 18:29:04+00:00  1013852069776777216    -0.3612     CNBCtech\n",
       "532 2018-07-02 13:41:26+00:00  1013779684147056643    -0.1027     CNBCtech\n",
       "289 2018-07-02 12:45:09+00:00  1013765518958977024     0.0000  BBCWorldBiz\n",
       "178 2018-07-01 23:40:03+00:00  1013567944591364096     0.2263  WSJbusiness\n",
       "220 2018-06-27 15:25:04+00:00  1011993825915613184     0.0000  WSJbusiness\n",
       "228 2018-06-25 16:40:08+00:00  1011287939958099970     0.5423  WSJbusiness"
      ]
     },
     "execution_count": 65,
     "metadata": {},
     "output_type": "execute_result"
    }
   ],
   "source": [
    "api = twitterUtils.getTwitterApi()\n",
    "twitterUtils.filterTwitterData(twitterUtils.getCurrentTwitterData(api), \"(F|f)acebook\")"
   ]
  },
  {
   "cell_type": "code",
   "execution_count": null,
   "metadata": {
    "collapsed": true
   },
   "outputs": [],
   "source": []
  },
  {
   "cell_type": "code",
   "execution_count": null,
   "metadata": {
    "collapsed": true
   },
   "outputs": [],
   "source": []
  },
  {
   "cell_type": "code",
   "execution_count": null,
   "metadata": {
    "collapsed": true
   },
   "outputs": [],
   "source": []
  },
  {
   "cell_type": "code",
   "execution_count": null,
   "metadata": {
    "collapsed": true
   },
   "outputs": [],
   "source": []
  },
  {
   "cell_type": "markdown",
   "metadata": {},
   "source": [
    "# Twitter Login"
   ]
  },
  {
   "cell_type": "code",
   "execution_count": 6,
   "metadata": {
    "collapsed": true
   },
   "outputs": [],
   "source": [
    "consumer_token = \"FSdktl3u8Q4xhmEHeC7tt4Q6P\"\n",
    "consumer_secret = \"pErt27djL4HCcBt0z9PU6w7zVFygfVsEP1Aqx2gQ70uYibqP7p\"\n",
    "access_key = \"1902120404-I1QEwvP7uLEBRJefMMPdPSf4uChDnsNvzO8hFcj\"\n",
    "access_secret = \"RZAp4AlaXoszBXqp8gkMJM1ed6TJzTBFCDS99248hV9i4\""
   ]
  },
  {
   "cell_type": "code",
   "execution_count": 7,
   "metadata": {
    "collapsed": true
   },
   "outputs": [],
   "source": [
    "auth = tweepy.OAuthHandler(consumer_token, consumer_secret)\n",
    "auth.set_access_token(access_key, access_secret)"
   ]
  },
  {
   "cell_type": "code",
   "execution_count": 8,
   "metadata": {
    "collapsed": true
   },
   "outputs": [],
   "source": [
    "api = tweepy.API(auth)"
   ]
  },
  {
   "cell_type": "markdown",
   "metadata": {},
   "source": [
    "# Main"
   ]
  },
  {
   "cell_type": "code",
   "execution_count": 12,
   "metadata": {
    "collapsed": true
   },
   "outputs": [],
   "source": [
    "def limit_handled(cursor):\n",
    "    while True:\n",
    "        try:\n",
    "            yield cursor.next()\n",
    "        except (tweepy.RateLimitError, tweepy.TweepError):\n",
    "            print(\"Rate limit exceeded, I'm passing out for a bit peace\")\n",
    "            time.sleep(15 * 60)"
   ]
  },
  {
   "cell_type": "code",
   "execution_count": 15,
   "metadata": {
    "collapsed": true
   },
   "outputs": [],
   "source": [
    "def makeCleanRep(origSource, removeLink=True):\n",
    "    \"\"\"\n",
    "    Returns a list of the sid, text, and date of a given source.\n",
    "    \"\"\"\n",
    "    \n",
    "    sid = origSource._json['id']\n",
    "    text = origSource._json['full_text']\n",
    "    date = origSource._json['created_at']\n",
    "    \n",
    "    if removeLink==True:\n",
    "        nonLinks = []\n",
    "        for word in text.split(\" \"):\n",
    "            if  \"http\" not in word:\n",
    "                nonLinks.append(word)\n",
    "        text = \" \".join(nonLinks)\n",
    "            \n",
    "    \n",
    "    return [sid, text, date]"
   ]
  },
  {
   "cell_type": "code",
   "execution_count": 54,
   "metadata": {},
   "outputs": [],
   "source": [
    "def getCurrentTwitterData():\n",
    "    allData = []\n",
    "    ids = []\n",
    "    texts = []\n",
    "    dates = []\n",
    "    sources = []\n",
    "    handles = [\"technology\", \"business\", \"WSJbusiness\", \"BBCWorldBiz\", \"ForbesTech\", \"CNBCtech\"]\n",
    "    c = 0\n",
    "\n",
    "    for handle in handles:\n",
    "#         print(\"Starting\", handle,  \"...\")\n",
    "        hc = 0\n",
    "        cur = tweepy.Cursor(api.user_timeline, screen_name = handle, tweet_mode='extended').items(100)\n",
    "        for source in limit_handled(cur):\n",
    "            clean = makeCleanRep(source)\n",
    "            if clean[1] not in texts:\n",
    "                ids.append(clean[0])\n",
    "                texts.append(clean[1])\n",
    "                dates.append(clean[2])\n",
    "                sources.append(handle)\n",
    "                c += 1\n",
    "                hc += 1\n",
    "#         print(\"Gathered\", hc, \"tweets for\", handle)\n",
    "\n",
    "    sia = SIA()\n",
    "    df = pd.DataFrame({\"IDs\":ids, \"Texts\":texts, \"Dates\":dates, \"Sources\": sources}, columns=[\"IDs\", \"Texts\", \"Dates\", \"Sources\"])\n",
    "    df['Sentiment'] = pd.Series([sia.polarity_scores(text)['compound'] for text in df['Texts']])\n",
    "    return df"
   ]
  },
  {
   "cell_type": "code",
   "execution_count": 51,
   "metadata": {
    "collapsed": true
   },
   "outputs": [],
   "source": [
    "def filterTwitterData(data, company_regex):\n",
    "    \"\"\"\n",
    "    :param csv: csv file name\n",
    "    :param company_regex: regex to select company\n",
    "    :return: dataframe with only dates and sentiment of tweets sorted by date\n",
    "    \"\"\"\n",
    "    company_tweets = data.loc[data['Texts'].str.contains(company_regex, na=False)]\n",
    "    company_tweets = company_tweets[['Dates', 'Sentiment', 'IDs', 'Sources']]\n",
    "    to_datetime_data = [parser.parse(date) for date in company_tweets['Dates']]\n",
    "    company_tweets['Datetime'] = to_datetime_data\n",
    "    company_tweets = company_tweets.sort_values(by = 'Datetime', ascending=False)\n",
    "    return company_tweets[['Datetime', 'IDs', 'Sentiment', 'Sources']]"
   ]
  },
  {
   "cell_type": "code",
   "execution_count": null,
   "metadata": {
    "collapsed": true
   },
   "outputs": [],
   "source": []
  },
  {
   "cell_type": "code",
   "execution_count": 56,
   "metadata": {},
   "outputs": [
    {
     "name": "stderr",
     "output_type": "stream",
     "text": [
      "/home/brandon/anaconda3/lib/python3.6/site-packages/ipykernel_launcher.py:14: DeprecationWarning: generator 'limit_handled' raised StopIteration\n",
      "  \n",
      "/home/brandon/anaconda3/lib/python3.6/site-packages/ipykernel_launcher.py:7: UserWarning: This pattern has match groups. To actually get the groups, use str.extract.\n",
      "  import sys\n"
     ]
    },
    {
     "data": {
      "text/html": [
       "<div>\n",
       "<style>\n",
       "    .dataframe thead tr:only-child th {\n",
       "        text-align: right;\n",
       "    }\n",
       "\n",
       "    .dataframe thead th {\n",
       "        text-align: left;\n",
       "    }\n",
       "\n",
       "    .dataframe tbody tr th {\n",
       "        vertical-align: top;\n",
       "    }\n",
       "</style>\n",
       "<table border=\"1\" class=\"dataframe\">\n",
       "  <thead>\n",
       "    <tr style=\"text-align: right;\">\n",
       "      <th></th>\n",
       "      <th>Datetime</th>\n",
       "      <th>IDs</th>\n",
       "      <th>Sentiment</th>\n",
       "      <th>Sources</th>\n",
       "    </tr>\n",
       "  </thead>\n",
       "  <tbody>\n",
       "    <tr>\n",
       "      <th>448</th>\n",
       "      <td>2018-07-06 21:59:20+00:00</td>\n",
       "      <td>1015354537723428870</td>\n",
       "      <td>-0.4404</td>\n",
       "      <td>CNBCtech</td>\n",
       "    </tr>\n",
       "    <tr>\n",
       "      <th>400</th>\n",
       "      <td>2018-07-06 12:04:00+00:00</td>\n",
       "      <td>1015204716832350209</td>\n",
       "      <td>-0.4019</td>\n",
       "      <td>ForbesTech</td>\n",
       "    </tr>\n",
       "    <tr>\n",
       "      <th>251</th>\n",
       "      <td>2018-07-06 08:35:58+00:00</td>\n",
       "      <td>1015152361176694784</td>\n",
       "      <td>0.0000</td>\n",
       "      <td>BBCWorldBiz</td>\n",
       "    </tr>\n",
       "    <tr>\n",
       "      <th>488</th>\n",
       "      <td>2018-07-04 18:50:03+00:00</td>\n",
       "      <td>1014582127982272512</td>\n",
       "      <td>-0.2732</td>\n",
       "      <td>CNBCtech</td>\n",
       "    </tr>\n",
       "    <tr>\n",
       "      <th>512</th>\n",
       "      <td>2018-07-03 09:48:23+00:00</td>\n",
       "      <td>1014083422577360896</td>\n",
       "      <td>0.4215</td>\n",
       "      <td>CNBCtech</td>\n",
       "    </tr>\n",
       "    <tr>\n",
       "      <th>62</th>\n",
       "      <td>2018-07-03 07:00:37+00:00</td>\n",
       "      <td>1014041201622814720</td>\n",
       "      <td>-0.3400</td>\n",
       "      <td>technology</td>\n",
       "    </tr>\n",
       "    <tr>\n",
       "      <th>515</th>\n",
       "      <td>2018-07-02 22:08:53+00:00</td>\n",
       "      <td>1013907386166382592</td>\n",
       "      <td>0.0000</td>\n",
       "      <td>CNBCtech</td>\n",
       "    </tr>\n",
       "    <tr>\n",
       "      <th>287</th>\n",
       "      <td>2018-07-02 19:24:19+00:00</td>\n",
       "      <td>1013865975652012034</td>\n",
       "      <td>-0.2263</td>\n",
       "      <td>BBCWorldBiz</td>\n",
       "    </tr>\n",
       "    <tr>\n",
       "      <th>524</th>\n",
       "      <td>2018-07-02 18:29:04+00:00</td>\n",
       "      <td>1013852069776777216</td>\n",
       "      <td>-0.3612</td>\n",
       "      <td>CNBCtech</td>\n",
       "    </tr>\n",
       "    <tr>\n",
       "      <th>532</th>\n",
       "      <td>2018-07-02 13:41:26+00:00</td>\n",
       "      <td>1013779684147056643</td>\n",
       "      <td>-0.1027</td>\n",
       "      <td>CNBCtech</td>\n",
       "    </tr>\n",
       "    <tr>\n",
       "      <th>289</th>\n",
       "      <td>2018-07-02 12:45:09+00:00</td>\n",
       "      <td>1013765518958977024</td>\n",
       "      <td>0.0000</td>\n",
       "      <td>BBCWorldBiz</td>\n",
       "    </tr>\n",
       "    <tr>\n",
       "      <th>178</th>\n",
       "      <td>2018-07-01 23:40:03+00:00</td>\n",
       "      <td>1013567944591364096</td>\n",
       "      <td>0.2263</td>\n",
       "      <td>WSJbusiness</td>\n",
       "    </tr>\n",
       "    <tr>\n",
       "      <th>220</th>\n",
       "      <td>2018-06-27 15:25:04+00:00</td>\n",
       "      <td>1011993825915613184</td>\n",
       "      <td>0.0000</td>\n",
       "      <td>WSJbusiness</td>\n",
       "    </tr>\n",
       "    <tr>\n",
       "      <th>228</th>\n",
       "      <td>2018-06-25 16:40:08+00:00</td>\n",
       "      <td>1011287939958099970</td>\n",
       "      <td>0.5423</td>\n",
       "      <td>WSJbusiness</td>\n",
       "    </tr>\n",
       "  </tbody>\n",
       "</table>\n",
       "</div>"
      ],
      "text/plain": [
       "                     Datetime                  IDs  Sentiment      Sources\n",
       "448 2018-07-06 21:59:20+00:00  1015354537723428870    -0.4404     CNBCtech\n",
       "400 2018-07-06 12:04:00+00:00  1015204716832350209    -0.4019   ForbesTech\n",
       "251 2018-07-06 08:35:58+00:00  1015152361176694784     0.0000  BBCWorldBiz\n",
       "488 2018-07-04 18:50:03+00:00  1014582127982272512    -0.2732     CNBCtech\n",
       "512 2018-07-03 09:48:23+00:00  1014083422577360896     0.4215     CNBCtech\n",
       "62  2018-07-03 07:00:37+00:00  1014041201622814720    -0.3400   technology\n",
       "515 2018-07-02 22:08:53+00:00  1013907386166382592     0.0000     CNBCtech\n",
       "287 2018-07-02 19:24:19+00:00  1013865975652012034    -0.2263  BBCWorldBiz\n",
       "524 2018-07-02 18:29:04+00:00  1013852069776777216    -0.3612     CNBCtech\n",
       "532 2018-07-02 13:41:26+00:00  1013779684147056643    -0.1027     CNBCtech\n",
       "289 2018-07-02 12:45:09+00:00  1013765518958977024     0.0000  BBCWorldBiz\n",
       "178 2018-07-01 23:40:03+00:00  1013567944591364096     0.2263  WSJbusiness\n",
       "220 2018-06-27 15:25:04+00:00  1011993825915613184     0.0000  WSJbusiness\n",
       "228 2018-06-25 16:40:08+00:00  1011287939958099970     0.5423  WSJbusiness"
      ]
     },
     "execution_count": 56,
     "metadata": {},
     "output_type": "execute_result"
    }
   ],
   "source": [
    "filterTwitterData(getCurrentTwitterData(), \"(F|f)acebook\")"
   ]
  },
  {
   "cell_type": "code",
   "execution_count": null,
   "metadata": {
    "collapsed": true
   },
   "outputs": [],
   "source": [
    "def createCompanyRefDict(money, regex):\n",
    "    return {'money': money, 'shares':0, 'regex':regex, 'buy_state':True, 'last_sell':0, 'last_buy':0}"
   ]
  },
  {
   "cell_type": "code",
   "execution_count": null,
   "metadata": {
    "collapsed": true
   },
   "outputs": [],
   "source": [
    "SELL_PRED = 0\n",
    "BUY_PRED = 1\n",
    "\n",
    "\n",
    "refData = {\"FB\": makeRefDataDict(money, shares, regex, buy_state, last_sell, last_buy)}\n",
    "\n",
    "while True:\n",
    "    api = twitterUtils.getTwitterApi()\n",
    "    twitter_data = twitterUtils.getCurrentTwitterData(api)\n",
    "    for symbol in refData.keys():\n",
    "        filtered_twitter_data = filterTwitterData(COMPANY_REGEX)\n",
    "        price_data = getCurrentPriceData()\n",
    "        stockPrice = #ASDFASDFASDFASDF\n",
    "        inputData = formatInput(price_data, inputData)\n",
    "        pred = bot.neural_net.predict(data)\n",
    "\n",
    "        if pred == BUY_PRED and refData[symbol]['buy_state'] == True:\n",
    "            sharesToBuy = int(refData[symbol]['money'] / stockPrice)\n",
    "            stockPrice = buyStock(symbol, sharesToBuy)\n",
    "            refData[symbol]['shares'] += sharesToBuy\n",
    "            refDatta[symbol]['money'] -= sharesToBuy * stockPrice\n",
    "            \n",
    "        elif pred == SELL_PRED and refData[symbol]['buy_state'] == False:\n",
    "            sharesToSell = refData[symbol]['shares']\n",
    "            stockPrice = sellStock(symbol, sharesToSell)\n",
    "            refData[symbol]['shares'] -= sharesToBuy\n",
    "            refDatta[symbol]['money'] += sharesToBuy * stockPrice\n",
    "    \n",
    "    \n",
    "    sleep(10)"
   ]
  },
  {
   "cell_type": "code",
   "execution_count": null,
   "metadata": {
    "collapsed": true
   },
   "outputs": [],
   "source": []
  },
  {
   "cell_type": "code",
   "execution_count": null,
   "metadata": {
    "collapsed": true
   },
   "outputs": [],
   "source": []
  },
  {
   "cell_type": "code",
   "execution_count": null,
   "metadata": {
    "collapsed": true
   },
   "outputs": [],
   "source": []
  },
  {
   "cell_type": "code",
   "execution_count": null,
   "metadata": {
    "collapsed": true
   },
   "outputs": [],
   "source": []
  }
 ],
 "metadata": {
  "kernelspec": {
   "display_name": "Python 3",
   "language": "python",
   "name": "python3"
  },
  "language_info": {
   "codemirror_mode": {
    "name": "ipython",
    "version": 3
   },
   "file_extension": ".py",
   "mimetype": "text/x-python",
   "name": "python",
   "nbconvert_exporter": "python",
   "pygments_lexer": "ipython3",
   "version": "3.6.3"
  }
 },
 "nbformat": 4,
 "nbformat_minor": 2
}
