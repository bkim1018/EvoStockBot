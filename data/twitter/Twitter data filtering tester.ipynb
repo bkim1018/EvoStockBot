{
 "cells": [
  {
   "cell_type": "code",
   "execution_count": 92,
   "metadata": {
    "collapsed": true
   },
   "outputs": [],
   "source": [
    "import numpy as np\n",
    "import pandas as pd\n",
    "import time\n",
    "import datetime\n",
    "import re\n",
    "from dateutil import parser"
   ]
  },
  {
   "cell_type": "code",
   "execution_count": 3,
   "metadata": {},
   "outputs": [],
   "source": [
    "data = pd.read_csv('historical.csv')"
   ]
  },
  {
   "cell_type": "code",
   "execution_count": 48,
   "metadata": {},
   "outputs": [
    {
     "data": {
      "text/plain": [
       "'The Uber backup driver was watching \"The Voice\" on her phone before the self-driving vehicle struck and killed a pedestrian in Arizona'"
      ]
     },
     "execution_count": 48,
     "metadata": {},
     "output_type": "execute_result"
    }
   ],
   "source": [
    "data['Texts'][1]"
   ]
  },
  {
   "cell_type": "code",
   "execution_count": 68,
   "metadata": {},
   "outputs": [
    {
     "name": "stderr",
     "output_type": "stream",
     "text": [
      "C:\\Program Files (x86)\\Microsoft Visual Studio\\Shared\\Anaconda3_64\\envs\\py27\\lib\\site-packages\\ipykernel_launcher.py:1: UserWarning: This pattern has match groups. To actually get the groups, use str.extract.\n",
      "  \"\"\"Entry point for launching an IPython kernel.\n"
     ]
    }
   ],
   "source": [
    "fb_data = data.loc[data['Texts'].str.contains('(F|f)acebook', na = False)]"
   ]
  },
  {
   "cell_type": "code",
   "execution_count": 111,
   "metadata": {},
   "outputs": [
    {
     "data": {
      "text/html": [
       "<div>\n",
       "<style scoped>\n",
       "    .dataframe tbody tr th:only-of-type {\n",
       "        vertical-align: middle;\n",
       "    }\n",
       "\n",
       "    .dataframe tbody tr th {\n",
       "        vertical-align: top;\n",
       "    }\n",
       "\n",
       "    .dataframe thead th {\n",
       "        text-align: right;\n",
       "    }\n",
       "</style>\n",
       "<table border=\"1\" class=\"dataframe\">\n",
       "  <thead>\n",
       "    <tr style=\"text-align: right;\">\n",
       "      <th></th>\n",
       "      <th>IDs</th>\n",
       "      <th>Texts</th>\n",
       "      <th>Dates</th>\n",
       "      <th>Sentiment</th>\n",
       "    </tr>\n",
       "  </thead>\n",
       "  <tbody>\n",
       "    <tr>\n",
       "      <th>8</th>\n",
       "      <td>1009928691760197633</td>\n",
       "      <td>Facebook's Sheryl Sandberg is addressing a gat...</td>\n",
       "      <td>Thu Jun 21 22:38:58 +0000 2018</td>\n",
       "      <td>0.0000</td>\n",
       "    </tr>\n",
       "    <tr>\n",
       "      <th>26</th>\n",
       "      <td>1009823451421560832</td>\n",
       "      <td>How do you keep your cryptocurrencies safe? We...</td>\n",
       "      <td>Thu Jun 21 15:40:47 +0000 2018</td>\n",
       "      <td>0.5267</td>\n",
       "    </tr>\n",
       "    <tr>\n",
       "      <th>30</th>\n",
       "      <td>1009776363769946112</td>\n",
       "      <td>Facebook is turning to machine-learning to amp...</td>\n",
       "      <td>Thu Jun 21 12:33:40 +0000 2018</td>\n",
       "      <td>-0.2732</td>\n",
       "    </tr>\n",
       "    <tr>\n",
       "      <th>62</th>\n",
       "      <td>1009152294825484291</td>\n",
       "      <td>Cambridge Analytica researcher disputes Facebo...</td>\n",
       "      <td>Tue Jun 19 19:13:50 +0000 2018</td>\n",
       "      <td>-0.5423</td>\n",
       "    </tr>\n",
       "    <tr>\n",
       "      <th>66</th>\n",
       "      <td>1009129860298674176</td>\n",
       "      <td>Facebook misses another Senate deadline on pri...</td>\n",
       "      <td>Tue Jun 19 17:44:42 +0000 2018</td>\n",
       "      <td>-0.2263</td>\n",
       "    </tr>\n",
       "  </tbody>\n",
       "</table>\n",
       "</div>"
      ],
      "text/plain": [
       "                    IDs                                              Texts  \\\n",
       "8   1009928691760197633  Facebook's Sheryl Sandberg is addressing a gat...   \n",
       "26  1009823451421560832  How do you keep your cryptocurrencies safe? We...   \n",
       "30  1009776363769946112  Facebook is turning to machine-learning to amp...   \n",
       "62  1009152294825484291  Cambridge Analytica researcher disputes Facebo...   \n",
       "66  1009129860298674176  Facebook misses another Senate deadline on pri...   \n",
       "\n",
       "                             Dates  Sentiment  \n",
       "8   Thu Jun 21 22:38:58 +0000 2018     0.0000  \n",
       "26  Thu Jun 21 15:40:47 +0000 2018     0.5267  \n",
       "30  Thu Jun 21 12:33:40 +0000 2018    -0.2732  \n",
       "62  Tue Jun 19 19:13:50 +0000 2018    -0.5423  \n",
       "66  Tue Jun 19 17:44:42 +0000 2018    -0.2263  "
      ]
     },
     "execution_count": 111,
     "metadata": {},
     "output_type": "execute_result"
    }
   ],
   "source": [
    "fb_data.head(5)"
   ]
  },
  {
   "cell_type": "code",
   "execution_count": 71,
   "metadata": {},
   "outputs": [],
   "source": [
    "fb_filtered = fb_data[['Dates','Sentiment']]"
   ]
  },
  {
   "cell_type": "code",
   "execution_count": 91,
   "metadata": {},
   "outputs": [
    {
     "name": "stdout",
     "output_type": "stream",
     "text": [
      "2018-05-24 16:19:55.853000 \n",
      "\n",
      "8     Thu Jun 21 22:38:58 +0000 2018\n",
      "26    Thu Jun 21 15:40:47 +0000 2018\n",
      "30    Thu Jun 21 12:33:40 +0000 2018\n",
      "62    Tue Jun 19 19:13:50 +0000 2018\n",
      "66    Tue Jun 19 17:44:42 +0000 2018\n",
      "Name: Dates, dtype: object\n"
     ]
    }
   ],
   "source": [
    "now = datetime.datetime.now()\n",
    "month = datetime.timedelta(days = 30)\n",
    "month_ago = now - month\n",
    "print month_ago ,'\\n'\n",
    "print fb_data['Dates'].head()"
   ]
  },
  {
   "cell_type": "code",
   "execution_count": 94,
   "metadata": {},
   "outputs": [],
   "source": [
    "to_datetime_data = [parser.parse(date) for date in fb_data['Dates']]"
   ]
  },
  {
   "cell_type": "code",
   "execution_count": 96,
   "metadata": {},
   "outputs": [
    {
     "name": "stderr",
     "output_type": "stream",
     "text": [
      "C:\\Program Files (x86)\\Microsoft Visual Studio\\Shared\\Anaconda3_64\\envs\\py27\\lib\\site-packages\\ipykernel_launcher.py:1: SettingWithCopyWarning: \n",
      "A value is trying to be set on a copy of a slice from a DataFrame.\n",
      "Try using .loc[row_indexer,col_indexer] = value instead\n",
      "\n",
      "See the caveats in the documentation: http://pandas.pydata.org/pandas-docs/stable/indexing.html#indexing-view-versus-copy\n",
      "  \"\"\"Entry point for launching an IPython kernel.\n"
     ]
    }
   ],
   "source": [
    "fb_filtered['Datetime'] = to_datetime_data"
   ]
  },
  {
   "cell_type": "code",
   "execution_count": 97,
   "metadata": {},
   "outputs": [
    {
     "data": {
      "text/html": [
       "<div>\n",
       "<style scoped>\n",
       "    .dataframe tbody tr th:only-of-type {\n",
       "        vertical-align: middle;\n",
       "    }\n",
       "\n",
       "    .dataframe tbody tr th {\n",
       "        vertical-align: top;\n",
       "    }\n",
       "\n",
       "    .dataframe thead th {\n",
       "        text-align: right;\n",
       "    }\n",
       "</style>\n",
       "<table border=\"1\" class=\"dataframe\">\n",
       "  <thead>\n",
       "    <tr style=\"text-align: right;\">\n",
       "      <th></th>\n",
       "      <th>Dates</th>\n",
       "      <th>Sentiment</th>\n",
       "      <th>Datetime</th>\n",
       "    </tr>\n",
       "  </thead>\n",
       "  <tbody>\n",
       "    <tr>\n",
       "      <th>8</th>\n",
       "      <td>Thu Jun 21 22:38:58 +0000 2018</td>\n",
       "      <td>0.0000</td>\n",
       "      <td>2018-06-21 22:38:58+00:00</td>\n",
       "    </tr>\n",
       "    <tr>\n",
       "      <th>26</th>\n",
       "      <td>Thu Jun 21 15:40:47 +0000 2018</td>\n",
       "      <td>0.5267</td>\n",
       "      <td>2018-06-21 15:40:47+00:00</td>\n",
       "    </tr>\n",
       "    <tr>\n",
       "      <th>30</th>\n",
       "      <td>Thu Jun 21 12:33:40 +0000 2018</td>\n",
       "      <td>-0.2732</td>\n",
       "      <td>2018-06-21 12:33:40+00:00</td>\n",
       "    </tr>\n",
       "  </tbody>\n",
       "</table>\n",
       "</div>"
      ],
      "text/plain": [
       "                             Dates  Sentiment                  Datetime\n",
       "8   Thu Jun 21 22:38:58 +0000 2018     0.0000 2018-06-21 22:38:58+00:00\n",
       "26  Thu Jun 21 15:40:47 +0000 2018     0.5267 2018-06-21 15:40:47+00:00\n",
       "30  Thu Jun 21 12:33:40 +0000 2018    -0.2732 2018-06-21 12:33:40+00:00"
      ]
     },
     "execution_count": 97,
     "metadata": {},
     "output_type": "execute_result"
    }
   ],
   "source": [
    "fb_filtered.head(3)"
   ]
  },
  {
   "cell_type": "code",
   "execution_count": 99,
   "metadata": {},
   "outputs": [],
   "source": [
    "current = fb_filtered.loc[fb_filtered['Datetime'] < month_ago]"
   ]
  },
  {
   "cell_type": "code",
   "execution_count": 101,
   "metadata": {},
   "outputs": [],
   "source": [
    "sorted_and_filtered = current.sort_values(by = 'Datetime')"
   ]
  },
  {
   "cell_type": "code",
   "execution_count": 103,
   "metadata": {},
   "outputs": [
    {
     "data": {
      "text/html": [
       "<div>\n",
       "<style scoped>\n",
       "    .dataframe tbody tr th:only-of-type {\n",
       "        vertical-align: middle;\n",
       "    }\n",
       "\n",
       "    .dataframe tbody tr th {\n",
       "        vertical-align: top;\n",
       "    }\n",
       "\n",
       "    .dataframe thead th {\n",
       "        text-align: right;\n",
       "    }\n",
       "</style>\n",
       "<table border=\"1\" class=\"dataframe\">\n",
       "  <thead>\n",
       "    <tr style=\"text-align: right;\">\n",
       "      <th></th>\n",
       "      <th>Dates</th>\n",
       "      <th>Sentiment</th>\n",
       "      <th>Datetime</th>\n",
       "    </tr>\n",
       "  </thead>\n",
       "  <tbody>\n",
       "    <tr>\n",
       "      <th>8994</th>\n",
       "      <td>Tue Jun 27 13:02:00 +0000 2017</td>\n",
       "      <td>0.2023</td>\n",
       "      <td>2017-06-27 13:02:00+00:00</td>\n",
       "    </tr>\n",
       "    <tr>\n",
       "      <th>8781</th>\n",
       "      <td>Wed Jul 26 18:38:35 +0000 2017</td>\n",
       "      <td>0.0000</td>\n",
       "      <td>2017-07-26 18:38:35+00:00</td>\n",
       "    </tr>\n",
       "    <tr>\n",
       "      <th>8778</th>\n",
       "      <td>Wed Jul 26 21:06:09 +0000 2017</td>\n",
       "      <td>0.5106</td>\n",
       "      <td>2017-07-26 21:06:09+00:00</td>\n",
       "    </tr>\n",
       "    <tr>\n",
       "      <th>8724</th>\n",
       "      <td>Wed Aug 02 16:56:36 +0000 2017</td>\n",
       "      <td>0.4404</td>\n",
       "      <td>2017-08-02 16:56:36+00:00</td>\n",
       "    </tr>\n",
       "    <tr>\n",
       "      <th>8718</th>\n",
       "      <td>Wed Aug 02 19:00:15 +0000 2017</td>\n",
       "      <td>0.0000</td>\n",
       "      <td>2017-08-02 19:00:15+00:00</td>\n",
       "    </tr>\n",
       "  </tbody>\n",
       "</table>\n",
       "</div>"
      ],
      "text/plain": [
       "                               Dates  Sentiment                  Datetime\n",
       "8994  Tue Jun 27 13:02:00 +0000 2017     0.2023 2017-06-27 13:02:00+00:00\n",
       "8781  Wed Jul 26 18:38:35 +0000 2017     0.0000 2017-07-26 18:38:35+00:00\n",
       "8778  Wed Jul 26 21:06:09 +0000 2017     0.5106 2017-07-26 21:06:09+00:00\n",
       "8724  Wed Aug 02 16:56:36 +0000 2017     0.4404 2017-08-02 16:56:36+00:00\n",
       "8718  Wed Aug 02 19:00:15 +0000 2017     0.0000 2017-08-02 19:00:15+00:00"
      ]
     },
     "execution_count": 103,
     "metadata": {},
     "output_type": "execute_result"
    }
   ],
   "source": [
    "sorted_and_filtered.head(5)"
   ]
  },
  {
   "cell_type": "code",
   "execution_count": 107,
   "metadata": {},
   "outputs": [],
   "source": [
    "slice = sorted_and_filtered.iloc[-10:]"
   ]
  },
  {
   "cell_type": "code",
   "execution_count": 110,
   "metadata": {},
   "outputs": [
    {
     "name": "stdout",
     "output_type": "stream",
     "text": [
      "                                Dates  Sentiment                  Datetime\n",
      "645    Wed May 23 20:34:05 +0000 2018     0.0000 2018-05-23 20:34:05+00:00\n",
      "631    Thu May 24 01:19:01 +0000 2018     0.6705 2018-05-24 01:19:01+00:00\n",
      "627    Thu May 24 02:30:12 +0000 2018     0.1027 2018-05-24 02:30:12+00:00\n",
      "14249  Thu May 24 04:01:32 +0000 2018    -0.1280 2018-05-24 04:01:32+00:00\n",
      "14248  Thu May 24 04:22:00 +0000 2018     0.3818 2018-05-24 04:22:00+00:00\n",
      "610    Thu May 24 10:17:19 +0000 2018     0.0000 2018-05-24 10:17:19+00:00\n",
      "15839  Thu May 24 11:42:06 +0000 2018     0.0000 2018-05-24 11:42:06+00:00\n",
      "15833  Thu May 24 13:29:29 +0000 2018     0.0000 2018-05-24 13:29:29+00:00\n",
      "603    Thu May 24 14:47:28 +0000 2018     0.4767 2018-05-24 14:47:28+00:00\n",
      "15826  Thu May 24 15:49:47 +0000 2018     0.0000 2018-05-24 15:49:47+00:00\n"
     ]
    }
   ],
   "source": [
    "print slice"
   ]
  },
  {
   "cell_type": "code",
   "execution_count": 108,
   "metadata": {
    "collapsed": true
   },
   "outputs": [],
   "source": [
    "sum = sum(slice['Sentiment'])"
   ]
  },
  {
   "cell_type": "code",
   "execution_count": 109,
   "metadata": {},
   "outputs": [
    {
     "name": "stdout",
     "output_type": "stream",
     "text": [
      "1.5037\n"
     ]
    }
   ],
   "source": [
    "print(sum)"
   ]
  }
 ],
 "metadata": {
  "kernelspec": {
   "display_name": "Python 2",
   "language": "python",
   "name": "python2"
  },
  "language_info": {
   "codemirror_mode": {
    "name": "ipython",
    "version": 2
   },
   "file_extension": ".py",
   "mimetype": "text/x-python",
   "name": "python",
   "nbconvert_exporter": "python",
   "pygments_lexer": "ipython2",
   "version": "2.7.14"
  }
 },
 "nbformat": 4,
 "nbformat_minor": 2
}
